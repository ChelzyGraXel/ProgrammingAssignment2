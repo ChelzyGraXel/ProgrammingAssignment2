{
 "cells": [
  {
   "cell_type": "markdown",
   "id": "e536d81d-b12b-49f0-a5fa-603e998ee0ee",
   "metadata": {},
   "source": [
    "# Experiment 2: Numerical Python (Numpy)\n",
    "#### Name: Tiñana, Chelzy Gracel\n",
    "#### Section: 2ECE-D"
   ]
  },
  {
   "cell_type": "markdown",
   "id": "3d513645-b20b-49b1-9c82-8e86b3f7ab60",
   "metadata": {},
   "source": [
    "## NORMALIZATION PROBLEM\n",
    "#### Normalization is one of the most basic preprocessing techniques in data analytics. This involves centering and scaling process. Centering means subtracting the data from the mean and scaling means dividing with its standard deviation. Mathematically, normalization can be expressed as: Z = (X-Mean)/Standard Deviation\n",
    "\n",
    "#### In Python, element-wise mean and element-wise standard deviation can be obtained by using .mean() and .std() calls\n",
    "\n",
    "#### In this problem, create a 5x5 ndarray and store it to variable X. Normalize X. Save your ndarray as X_normalized.npy"
   ]
  },
  {
   "cell_type": "code",
   "execution_count": 19,
   "id": "8d8ffb70-d860-4a74-99ba-3134590e0f1e",
   "metadata": {},
   "outputs": [
    {
     "data": {
      "text/plain": [
       "array([[94, 62, 38, 36, 52],\n",
       "       [53, 32, 65, 61, 27],\n",
       "       [ 7, 23, 18, 92, 51],\n",
       "       [19, 16, 92, 84, 10],\n",
       "       [33, 74, 73,  8, 95]])"
      ]
     },
     "execution_count": 19,
     "metadata": {},
     "output_type": "execute_result"
    }
   ],
   "source": [
    "import numpy as np\n",
    "\n",
    "# Create a 5x5 ndarray and store to variable X.\n",
    "X = np.random.randint(1,100, size=(5,5))\n",
    "X"
   ]
  },
  {
   "cell_type": "code",
   "execution_count": 25,
   "id": "a35a3e0e-6cc9-44a8-8c86-9b8662e68a4a",
   "metadata": {},
   "outputs": [
    {
     "data": {
      "text/plain": [
       "array([[ 1.5750981 ,  0.4648968 , -0.36775418, -0.43714176,  0.11795889],\n",
       "       [ 0.15265268, -0.57591693,  0.56897817,  0.43020301, -0.74938588],\n",
       "       [-1.4432617 , -0.88816105, -1.06163   ,  1.50571052,  0.0832651 ],\n",
       "       [-1.02693621, -1.13101758,  1.50571052,  1.2281602 , -1.33918033],\n",
       "       [-0.54122314,  0.88122229,  0.8465285 , -1.40856791,  1.6097919 ]])"
      ]
     },
     "execution_count": 25,
     "metadata": {},
     "output_type": "execute_result"
    }
   ],
   "source": [
    "# Calculate the mean of the ndArray.\n",
    "mean = X.mean()\n",
    "\n",
    "# Calculate the standard deviation of the ndArray.\n",
    "stddev = X.std()\n",
    "\n",
    "# Normalize the array\n",
    "n = X - mean\n",
    "X_normalized = n/stddev\n",
    "\n",
    "# Save the ndArray as X_normalized.npy\n",
    "np.save('X_normalized.npy', X_normalized)\n",
    "np.load('X_normalized.npy')"
   ]
  },
  {
   "cell_type": "markdown",
   "id": "bcc83741-b600-4200-b09e-a7af3cf8d239",
   "metadata": {},
   "source": [
    "## DIVISIBLE BY 3 PROBLEM\n",
    "#### Create the following 10x10 ndarray A which are the squares of the first 100 positive integers. From this ndarray, determine all the elements that are divisible by 3. Save the result as div_by_3.npy"
   ]
  },
  {
   "cell_type": "code",
   "execution_count": 29,
   "id": "647d270d-5af7-47ff-9ccf-7bb7cad33782",
   "metadata": {},
   "outputs": [
    {
     "name": "stdout",
     "output_type": "stream",
     "text": [
      "[[    1     4     9    16    25    36    49    64    81   100]\n",
      " [  121   144   169   196   225   256   289   324   361   400]\n",
      " [  441   484   529   576   625   676   729   784   841   900]\n",
      " [  961  1024  1089  1156  1225  1296  1369  1444  1521  1600]\n",
      " [ 1681  1764  1849  1936  2025  2116  2209  2304  2401  2500]\n",
      " [ 2601  2704  2809  2916  3025  3136  3249  3364  3481  3600]\n",
      " [ 3721  3844  3969  4096  4225  4356  4489  4624  4761  4900]\n",
      " [ 5041  5184  5329  5476  5625  5776  5929  6084  6241  6400]\n",
      " [ 6561  6724  6889  7056  7225  7396  7569  7744  7921  8100]\n",
      " [ 8281  8464  8649  8836  9025  9216  9409  9604  9801 10000]]\n"
     ]
    }
   ],
   "source": [
    "import numpy as np\n",
    "\n",
    "# Generate the first 100 positive integers.\n",
    "num = np.arange(1,101)\n",
    "\n",
    "# Compute for the squares of each integer.\n",
    "squaredNum = num**2\n",
    "\n",
    "# Store the calculated squares in the 10x10 array.\n",
    "A = squaredNum.reshape((10,10))\n",
    "\n",
    "# 10x10 array of the first 100 positive integers.\n",
    "print(A)"
   ]
  },
  {
   "cell_type": "code",
   "execution_count": 31,
   "id": "cf2d476f-4224-407b-8330-de00fde83460",
   "metadata": {},
   "outputs": [
    {
     "data": {
      "text/plain": [
       "array([   9,   36,   81,  144,  225,  324,  441,  576,  729,  900, 1089,\n",
       "       1296, 1521, 1764, 2025, 2304, 2601, 2916, 3249, 3600, 3969, 4356,\n",
       "       4761, 5184, 5625, 6084, 6561, 7056, 7569, 8100, 8649, 9216, 9801])"
      ]
     },
     "execution_count": 31,
     "metadata": {},
     "output_type": "execute_result"
    }
   ],
   "source": [
    "# Look for values that are divisible by 3.\n",
    "multiplesOf3 = A % 3 == 0\n",
    "div_by_3 = A[multiplesOf3]\n",
    "\n",
    "# Save the results as div_by_3.npy\n",
    "np.save('div_by_3.npy', div_by_3)\n",
    "np.load('div_by_3.npy')"
   ]
  }
 ],
 "metadata": {
  "kernelspec": {
   "display_name": "Python 3 (ipykernel)",
   "language": "python",
   "name": "python3"
  },
  "language_info": {
   "codemirror_mode": {
    "name": "ipython",
    "version": 3
   },
   "file_extension": ".py",
   "mimetype": "text/x-python",
   "name": "python",
   "nbconvert_exporter": "python",
   "pygments_lexer": "ipython3",
   "version": "3.12.4"
  }
 },
 "nbformat": 4,
 "nbformat_minor": 5
}
