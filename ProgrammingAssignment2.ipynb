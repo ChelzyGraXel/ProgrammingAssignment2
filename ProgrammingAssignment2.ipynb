{
 "cells": [
  {
   "cell_type": "markdown",
   "id": "e536d81d-b12b-49f0-a5fa-603e998ee0ee",
   "metadata": {},
   "source": [
    "# Experiment 2: Numerical Python (Numpy)\n",
    "#### Name: Tiñana, Chelzy Gracel\n",
    "#### Section: 2ECE-D"
   ]
  },
  {
   "cell_type": "markdown",
   "id": "3d513645-b20b-49b1-9c82-8e86b3f7ab60",
   "metadata": {},
   "source": [
    "## NORMALIZATION PROBLEM\n",
    "#### Normalization is one of the most basic preprocessing techniques in data analytics. This involves centering and scaling process. Centering means subtracting the data from the mean and scaling means dividing with its standard deviation. Mathematically, normalization can be expressed as: \n",
    "\n",
    "#### In Python, element-wise mean and element-wise standard deviation can be obtained by using .mean() and .std() calls\n",
    "\n",
    "#### In this problem, create a 5x5 ndarray and store it to variable X. Normalize X. Save your ndarray as X_normalized.npy"
   ]
  },
  {
   "cell_type": "code",
   "execution_count": 53,
   "id": "8d8ffb70-d860-4a74-99ba-3134590e0f1e",
   "metadata": {},
   "outputs": [
    {
     "data": {
      "text/plain": [
       "array([[11, 33, 41, 30, 96],\n",
       "       [96, 58, 85, 21, 69],\n",
       "       [98, 82, 38, 41, 42],\n",
       "       [59, 31, 51, 43, 70],\n",
       "       [31, 26, 65, 44,  2]])"
      ]
     },
     "execution_count": 53,
     "metadata": {},
     "output_type": "execute_result"
    }
   ],
   "source": [
    "import numpy as np\n",
    "\n",
    "# Create a 5x5 ndarray and store to variable X.\n",
    "X = np.random.randint(1,100, size=(5,5))\n",
    "X"
   ]
  },
  {
   "cell_type": "code",
   "execution_count": 119,
   "id": "38ed45f4-3017-4aa4-acb5-e0b3df649a99",
   "metadata": {},
   "outputs": [
    {
     "name": "stdout",
     "output_type": "stream",
     "text": [
      "[[-1.51471044 -0.67150119 -0.36487964 -0.78648427  1.74314349]\n",
      " [ 1.74314349  0.28669115  1.32153886 -1.13143351  0.70829577]\n",
      " [ 1.81979888  1.20655578 -0.47986272 -0.36487964 -0.32655195]\n",
      " [ 0.32501884 -0.74815657  0.01839729 -0.28822425  0.74662346]\n",
      " [-0.74815657 -0.93979504  0.554985   -0.24989656 -1.85965968]]\n"
     ]
    }
   ],
   "source": [
    "# Calculate the mean of the ndArray.\n",
    "mean = np.mean(X)\n",
    "\n",
    "# Calculate the standard deviation of the ndArray.\n",
    "stddev = np.std(X)\n",
    "\n",
    "# Normalize the array\n",
    "n = X - mean\n",
    "X_normalized = n/stddev\n",
    "\n",
    "print(X_normalized)"
   ]
  },
  {
   "cell_type": "markdown",
   "id": "560174ac-1b1a-4f84-897a-74b87a10aec1",
   "metadata": {},
   "source": [
    "## DIVISIBLE BY 3 PROBLEM\n",
    "#### Create the following 10x10 ndarray A which are the squares of the first 100 positive integers. From this ndarray, determine all the elements that are divisible by 3. Save the result as div_by_3.npy"
   ]
  },
  {
   "cell_type": "code",
   "execution_count": 77,
   "id": "ef214681-8df8-41bd-b008-ee3c50ecb7a2",
   "metadata": {},
   "outputs": [
    {
     "name": "stdout",
     "output_type": "stream",
     "text": [
      "[[    1     4     9    16    25    36    49    64    81   100]\n",
      " [  121   144   169   196   225   256   289   324   361   400]\n",
      " [  441   484   529   576   625   676   729   784   841   900]\n",
      " [  961  1024  1089  1156  1225  1296  1369  1444  1521  1600]\n",
      " [ 1681  1764  1849  1936  2025  2116  2209  2304  2401  2500]\n",
      " [ 2601  2704  2809  2916  3025  3136  3249  3364  3481  3600]\n",
      " [ 3721  3844  3969  4096  4225  4356  4489  4624  4761  4900]\n",
      " [ 5041  5184  5329  5476  5625  5776  5929  6084  6241  6400]\n",
      " [ 6561  6724  6889  7056  7225  7396  7569  7744  7921  8100]\n",
      " [ 8281  8464  8649  8836  9025  9216  9409  9604  9801 10000]]\n"
     ]
    }
   ],
   "source": [
    "import numpy as np\n",
    "\n",
    "# Generate the first 100 positive integers.\n",
    "num = np.arange(1,101)\n",
    "\n",
    "# Compute for the squares of each integer.\n",
    "squaredNum = num**2\n",
    "\n",
    "# Store the calculated squares in the 10x10 array.\n",
    "A = squaredNum.reshape((10,10))\n",
    "\n",
    "# 10x10 array of the first 100 positive integers.\n",
    "print(A)"
   ]
  },
  {
   "cell_type": "code",
   "execution_count": 97,
   "id": "c6cedf39-feee-4c3a-95e4-6fc7913a5818",
   "metadata": {},
   "outputs": [
    {
     "name": "stdout",
     "output_type": "stream",
     "text": [
      "[   9   36   81  144  225  324  441  576  729  900 1089 1296 1521 1764\n",
      " 2025 2304 2601 2916 3249 3600 3969 4356 4761 5184 5625 6084 6561 7056\n",
      " 7569 8100 8649 9216 9801]\n"
     ]
    }
   ],
   "source": [
    "# Look for values that are divisible by 3.\n",
    "multiplesOf3 = A % 3 == 0\n",
    "\n",
    "# Results\n",
    "div_by_3 = A[multiplesOf3]\n",
    "print(div_by_3)"
   ]
  }
 ],
 "metadata": {
  "kernelspec": {
   "display_name": "Python 3 (ipykernel)",
   "language": "python",
   "name": "python3"
  },
  "language_info": {
   "codemirror_mode": {
    "name": "ipython",
    "version": 3
   },
   "file_extension": ".py",
   "mimetype": "text/x-python",
   "name": "python",
   "nbconvert_exporter": "python",
   "pygments_lexer": "ipython3",
   "version": "3.12.4"
  }
 },
 "nbformat": 4,
 "nbformat_minor": 5
}
